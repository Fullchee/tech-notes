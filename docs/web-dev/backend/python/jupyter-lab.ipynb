{
 "cells": [
  {
   "cell_type": "markdown",
   "id": "f9cb2798-6f5b-4b98-83d3-60cff8b37ec3",
   "metadata": {},
   "source": [
    "https://towardsdatascience.com/jypyter-notebook-shortcuts-bf0101a98330\n",
    "\n",
    "## Shortcuts for both edit or command mode\n",
    "\n",
    "* `Shift + Enter` run the current cell, select below\n",
    "* `Ctrl/Cmd + Enter` run selected cells\n",
    "* `Alt + Enter` run the current cell, insert below"
   ]
  },
  {
   "cell_type": "markdown",
   "id": "7630333a-9c34-4533-b9ff-213e289a058a",
   "metadata": {},
   "source": [
    "## Command Mode shortcuts\n",
    "\n",
    "* `A` insert a new cell above the active cell\n",
    "    \n",
    "* `B` insert a new cell below the active cell\n",
    "    \n",
    "* `M` make the active cell a Markdown cell\n",
    "    \n",
    "* `Y` make the active cell a code cell\n",
    "\n",
    "* `Shift + M` merge multiple selected cells into one cell\n",
    "\n",
    "* X cut the selected cell or cells\n",
    "\n",
    "* C copy the selected cell or cells\n",
    "\n",
    "* DD (D twice) delete the active cell\n",
    "\n",
    "* 00 (Zero twice) restart the kernel\n",
    "\n",
    "* Z undo most recent command mode action"
   ]
  }
 ],
 "metadata": {
  "kernelspec": {
   "display_name": "Python 3 (ipykernel)",
   "language": "python",
   "name": "python3"
  },
  "language_info": {
   "codemirror_mode": {
    "name": "ipython",
    "version": 3
   },
   "file_extension": ".py",
   "mimetype": "text/x-python",
   "name": "python",
   "nbconvert_exporter": "python",
   "pygments_lexer": "ipython3",
   "version": "3.8.12"
  }
 },
 "nbformat": 4,
 "nbformat_minor": 5
}
